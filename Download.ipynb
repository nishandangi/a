{
  "nbformat": 4,
  "nbformat_minor": 0,
  "metadata": {
    "colab": {
      "name": "Torrent To Google Drive Downloader",
      "provenance": [],
      "include_colab_link": true
    },
    "kernelspec": {
      "display_name": "Python 3",
      "language": "python",
      "name": "python3"
    },
    "widgets": {
      "application/vnd.jupyter.widget-state+json": {
        "e61cee968d9d40c7a21377afa4ca455b": {
          "model_module": "@jupyter-widgets/controls",
          "model_name": "FloatSliderModel",
          "model_module_version": "1.5.0",
          "state": {
            "_dom_classes": [],
            "_model_module": "@jupyter-widgets/controls",
            "_model_module_version": "1.5.0",
            "_model_name": "FloatSliderModel",
            "_view_count": null,
            "_view_module": "@jupyter-widgets/controls",
            "_view_module_version": "1.5.0",
            "_view_name": "FloatSliderView",
            "continuous_update": true,
            "description": "Tamasha (2015) Hindi - 720p BluRay - 1.2GB - Zaeem 729.277 kB/s downloading",
            "description_tooltip": null,
            "disabled": true,
            "layout": "IPY_MODEL_f3bec452d33e466f9089f79ee3202de4",
            "max": 100,
            "min": 0,
            "orientation": "horizontal",
            "readout": true,
            "readout_format": ".2f",
            "step": 0.01,
            "style": "IPY_MODEL_1831262783db4881be65626e87b573ae",
            "value": 99.9974012374878
          }
        },
        "f3bec452d33e466f9089f79ee3202de4": {
          "model_module": "@jupyter-widgets/base",
          "model_name": "LayoutModel",
          "model_module_version": "1.2.0",
          "state": {
            "_model_module": "@jupyter-widgets/base",
            "_model_module_version": "1.2.0",
            "_model_name": "LayoutModel",
            "_view_count": null,
            "_view_module": "@jupyter-widgets/base",
            "_view_module_version": "1.2.0",
            "_view_name": "LayoutView",
            "align_content": null,
            "align_items": null,
            "align_self": null,
            "border": null,
            "bottom": null,
            "display": null,
            "flex": null,
            "flex_flow": null,
            "grid_area": null,
            "grid_auto_columns": null,
            "grid_auto_flow": null,
            "grid_auto_rows": null,
            "grid_column": null,
            "grid_gap": null,
            "grid_row": null,
            "grid_template_areas": null,
            "grid_template_columns": null,
            "grid_template_rows": null,
            "height": null,
            "justify_content": null,
            "justify_items": null,
            "left": null,
            "margin": null,
            "max_height": null,
            "max_width": null,
            "min_height": null,
            "min_width": null,
            "object_fit": null,
            "object_position": null,
            "order": null,
            "overflow": null,
            "overflow_x": null,
            "overflow_y": null,
            "padding": null,
            "right": null,
            "top": null,
            "visibility": null,
            "width": "auto"
          }
        },
        "1831262783db4881be65626e87b573ae": {
          "model_module": "@jupyter-widgets/controls",
          "model_name": "SliderStyleModel",
          "model_module_version": "1.5.0",
          "state": {
            "_model_module": "@jupyter-widgets/controls",
            "_model_module_version": "1.5.0",
            "_model_name": "SliderStyleModel",
            "_view_count": null,
            "_view_module": "@jupyter-widgets/base",
            "_view_module_version": "1.2.0",
            "_view_name": "StyleView",
            "description_width": "initial",
            "handle_color": null
          }
        }
      }
    }
  },
  "cells": [
    {
      "cell_type": "markdown",
      "metadata": {
        "id": "view-in-github",
        "colab_type": "text"
      },
      "source": [
        "<a href=\"https://colab.research.google.com/github/nishandangi/a/blob/main/Download.ipynb\" target=\"_parent\"><img src=\"https://colab.research.google.com/assets/colab-badge.svg\" alt=\"Open In Colab\"/></a>"
      ]
    },
    {
      "cell_type": "markdown",
      "metadata": {
        "id": "aQuWDmfm9YOi"
      },
      "source": [
        "# Torrent To Google Drive Downloader"
      ]
    },
    {
      "cell_type": "markdown",
      "metadata": {
        "id": "qYk44mBwJf6E"
      },
      "source": [
        "**Important Note:** To get more disk space:\n",
        "> Go to Runtime -> Change Runtime and give GPU as the Hardware Accelerator.  You will get around 384GB to download any torrent you want."
      ]
    },
    {
      "cell_type": "markdown",
      "metadata": {
        "id": "NaFa7M-e9YOr"
      },
      "source": [
        "### Install libtorrent and Initialize Session"
      ]
    },
    {
      "cell_type": "code",
      "metadata": {
        "id": "m6hF0emftx4h",
        "colab": {
          "base_uri": "https://localhost:8080/"
        },
        "outputId": "97920444-3117-432a-8c7a-d8cfa3d6f974"
      },
      "source": [
        "!pip install lbry-libtorrent --force-reinstall\n",
        "\n",
        "import libtorrent as lt\n",
        "\n",
        "ses = lt.session()\n",
        "ses.listen_on(6881, 6891)\n",
        "downloads = []"
      ],
      "execution_count": 2,
      "outputs": [
        {
          "output_type": "stream",
          "name": "stdout",
          "text": [
            "Collecting lbry-libtorrent\n",
            "  Using cached lbry_libtorrent-1.2.4-py3-none-any.whl.metadata (347 bytes)\n",
            "Using cached lbry_libtorrent-1.2.4-py3-none-any.whl (2.4 MB)\n",
            "Installing collected packages: lbry-libtorrent\n",
            "  Attempting uninstall: lbry-libtorrent\n",
            "    Found existing installation: lbry-libtorrent 1.2.4\n",
            "    Uninstalling lbry-libtorrent-1.2.4:\n",
            "      Successfully uninstalled lbry-libtorrent-1.2.4\n",
            "Successfully installed lbry-libtorrent-1.2.4\n"
          ]
        },
        {
          "output_type": "stream",
          "name": "stderr",
          "text": [
            "<frozen importlib._bootstrap>:241: RuntimeWarning: to-Python converter for std::pair<int, int> already registered; second conversion method ignored.\n",
            "<frozen importlib._bootstrap>:241: RuntimeWarning: to-Python converter for std::pair<libtorrent::aux::strong_typedef<int, libtorrent::aux::piece_index_tag, void>, libtorrent::aux::strong_typedef<unsigned char, libtorrent::download_priority_tag, void> > already registered; second conversion method ignored.\n",
            "<frozen importlib._bootstrap>:241: RuntimeWarning: to-Python converter for boost::asio::ip::basic_endpoint<boost::asio::ip::tcp> already registered; second conversion method ignored.\n",
            "<frozen importlib._bootstrap>:241: RuntimeWarning: to-Python converter for boost::asio::ip::basic_endpoint<boost::asio::ip::udp> already registered; second conversion method ignored.\n",
            "<frozen importlib._bootstrap>:241: RuntimeWarning: to-Python converter for boost::asio::ip::address already registered; second conversion method ignored.\n",
            "<frozen importlib._bootstrap>:241: RuntimeWarning: to-Python converter for std::pair<std::__cxx11::basic_string<char, std::char_traits<char>, std::allocator<char> >, int> already registered; second conversion method ignored.\n",
            "<frozen importlib._bootstrap>:241: RuntimeWarning: to-Python converter for std::vector<libtorrent::stats_metric, std::allocator<libtorrent::stats_metric> > already registered; second conversion method ignored.\n",
            "<frozen importlib._bootstrap>:241: RuntimeWarning: to-Python converter for std::vector<libtorrent::open_file_state, std::allocator<libtorrent::open_file_state> > already registered; second conversion method ignored.\n",
            "<frozen importlib._bootstrap>:241: RuntimeWarning: to-Python converter for std::vector<libtorrent::digest32<160l>, std::allocator<libtorrent::digest32<160l> > > already registered; second conversion method ignored.\n",
            "<frozen importlib._bootstrap>:241: RuntimeWarning: to-Python converter for std::vector<std::__cxx11::basic_string<char, std::char_traits<char>, std::allocator<char> >, std::allocator<std::__cxx11::basic_string<char, std::char_traits<char>, std::allocator<char> > > > already registered; second conversion method ignored.\n",
            "<frozen importlib._bootstrap>:241: RuntimeWarning: to-Python converter for std::vector<int, std::allocator<int> > already registered; second conversion method ignored.\n",
            "<frozen importlib._bootstrap>:241: RuntimeWarning: to-Python converter for std::vector<libtorrent::aux::strong_typedef<unsigned char, libtorrent::download_priority_tag, void>, std::allocator<libtorrent::aux::strong_typedef<unsigned char, libtorrent::download_priority_tag, void> > > already registered; second conversion method ignored.\n",
            "<frozen importlib._bootstrap>:241: RuntimeWarning: to-Python converter for std::vector<boost::asio::ip::basic_endpoint<boost::asio::ip::tcp>, std::allocator<boost::asio::ip::basic_endpoint<boost::asio::ip::tcp> > > already registered; second conversion method ignored.\n",
            "<frozen importlib._bootstrap>:241: RuntimeWarning: to-Python converter for std::vector<boost::asio::ip::basic_endpoint<boost::asio::ip::udp>, std::allocator<boost::asio::ip::basic_endpoint<boost::asio::ip::udp> > > already registered; second conversion method ignored.\n",
            "<frozen importlib._bootstrap>:241: RuntimeWarning: to-Python converter for std::vector<std::pair<std::__cxx11::basic_string<char, std::char_traits<char>, std::allocator<char> >, int>, std::allocator<std::pair<std::__cxx11::basic_string<char, std::char_traits<char>, std::allocator<char> >, int> > > already registered; second conversion method ignored.\n",
            "<frozen importlib._bootstrap>:241: RuntimeWarning: to-Python converter for libtorrent::typed_bitfield<libtorrent::aux::strong_typedef<int, libtorrent::aux::piece_index_tag, void> > already registered; second conversion method ignored.\n",
            "<frozen importlib._bootstrap>:241: RuntimeWarning: to-Python converter for libtorrent::bitfield already registered; second conversion method ignored.\n",
            "<frozen importlib._bootstrap>:241: RuntimeWarning: to-Python converter for libtorrent::aux::strong_typedef<int, libtorrent::queue_position_tag, void> already registered; second conversion method ignored.\n",
            "<frozen importlib._bootstrap>:241: RuntimeWarning: to-Python converter for libtorrent::aux::strong_typedef<int, libtorrent::aux::piece_index_tag, void> already registered; second conversion method ignored.\n",
            "<frozen importlib._bootstrap>:241: RuntimeWarning: to-Python converter for libtorrent::aux::strong_typedef<unsigned char, libtorrent::download_priority_tag, void> already registered; second conversion method ignored.\n",
            "<frozen importlib._bootstrap>:241: RuntimeWarning: to-Python converter for libtorrent::aux::strong_typedef<int, libtorrent::aux::file_index_tag, void> already registered; second conversion method ignored.\n",
            "<frozen importlib._bootstrap>:241: RuntimeWarning: to-Python converter for libtorrent::aux::strong_typedef<int, libtorrent::port_mapping_tag, void> already registered; second conversion method ignored.\n",
            "<frozen importlib._bootstrap>:241: RuntimeWarning: to-Python converter for libtorrent::aux::strong_typedef<unsigned int, libtorrent::peer_class_tag, void> already registered; second conversion method ignored.\n",
            "<frozen importlib._bootstrap>:241: RuntimeWarning: to-Python converter for libtorrent::flags::bitfield_flag<unsigned long, libtorrent::torrent_flags_tag, void> already registered; second conversion method ignored.\n",
            "<frozen importlib._bootstrap>:241: RuntimeWarning: to-Python converter for libtorrent::flags::bitfield_flag<unsigned int, libtorrent::peer_flags_tag, void> already registered; second conversion method ignored.\n",
            "<frozen importlib._bootstrap>:241: RuntimeWarning: to-Python converter for libtorrent::flags::bitfield_flag<unsigned char, libtorrent::peer_source_flags_tag, void> already registered; second conversion method ignored.\n",
            "<frozen importlib._bootstrap>:241: RuntimeWarning: to-Python converter for libtorrent::flags::bitfield_flag<unsigned char, libtorrent::bandwidth_state_flags_tag, void> already registered; second conversion method ignored.\n",
            "<frozen importlib._bootstrap>:241: RuntimeWarning: to-Python converter for libtorrent::flags::bitfield_flag<unsigned char, libtorrent::file_open_mode_tag, void> already registered; second conversion method ignored.\n",
            "<frozen importlib._bootstrap>:241: RuntimeWarning: to-Python converter for libtorrent::flags::bitfield_flag<unsigned int, libtorrent::picker_flags_tag, void> already registered; second conversion method ignored.\n",
            "<frozen importlib._bootstrap>:241: RuntimeWarning: to-Python converter for libtorrent::flags::bitfield_flag<unsigned int, libtorrent::status_flags_tag, void> already registered; second conversion method ignored.\n",
            "<frozen importlib._bootstrap>:241: RuntimeWarning: to-Python converter for libtorrent::flags::bitfield_flag<unsigned int, libtorrent::alert_category_tag, void> already registered; second conversion method ignored.\n",
            "<frozen importlib._bootstrap>:241: RuntimeWarning: to-Python converter for libtorrent::flags::bitfield_flag<unsigned char, libtorrent::resume_data_flags_tag, void> already registered; second conversion method ignored.\n",
            "<frozen importlib._bootstrap>:241: RuntimeWarning: to-Python converter for libtorrent::flags::bitfield_flag<unsigned char, libtorrent::add_piece_flags_tag, void> already registered; second conversion method ignored.\n",
            "<frozen importlib._bootstrap>:241: RuntimeWarning: to-Python converter for libtorrent::flags::bitfield_flag<unsigned char, libtorrent::pause_flags_tag, void> already registered; second conversion method ignored.\n",
            "<frozen importlib._bootstrap>:241: RuntimeWarning: to-Python converter for libtorrent::flags::bitfield_flag<unsigned char, libtorrent::deadline_flags_tag, void> already registered; second conversion method ignored.\n",
            "<frozen importlib._bootstrap>:241: RuntimeWarning: to-Python converter for libtorrent::flags::bitfield_flag<unsigned int, libtorrent::save_state_flags_tag, void> already registered; second conversion method ignored.\n",
            "<frozen importlib._bootstrap>:241: RuntimeWarning: to-Python converter for libtorrent::flags::bitfield_flag<unsigned char, libtorrent::session_flags_tag, void> already registered; second conversion method ignored.\n",
            "<frozen importlib._bootstrap>:241: RuntimeWarning: to-Python converter for libtorrent::flags::bitfield_flag<unsigned char, libtorrent::remove_flags_tag, void> already registered; second conversion method ignored.\n",
            "<frozen importlib._bootstrap>:241: RuntimeWarning: to-Python converter for libtorrent::flags::bitfield_flag<unsigned char, libtorrent::reopen_network_flags_tag, void> already registered; second conversion method ignored.\n",
            "<frozen importlib._bootstrap>:241: RuntimeWarning: to-Python converter for libtorrent::flags::bitfield_flag<unsigned char, libtorrent::file_flags_tag, void> already registered; second conversion method ignored.\n",
            "<frozen importlib._bootstrap>:241: RuntimeWarning: to-Python converter for libtorrent::flags::bitfield_flag<unsigned int, libtorrent::create_flags_tag, void> already registered; second conversion method ignored.\n",
            "<frozen importlib._bootstrap>:241: RuntimeWarning: to-Python converter for libtorrent::flags::bitfield_flag<unsigned char, libtorrent::pex_flags_tag, void> already registered; second conversion method ignored.\n",
            "<frozen importlib._bootstrap>:241: RuntimeWarning: to-Python converter for libtorrent::flags::bitfield_flag<unsigned char, libtorrent::reannounce_flags_tag, void> already registered; second conversion method ignored.\n",
            "<frozen importlib._bootstrap>:241: RuntimeWarning: to-Python converter for boost::basic_string_view<char, std::char_traits<char> > already registered; second conversion method ignored.\n",
            "<frozen importlib._bootstrap>:241: RuntimeWarning: to-Python converter for libtorrent::aux::noexcept_movable<boost::asio::ip::address> already registered; second conversion method ignored.\n",
            "<frozen importlib._bootstrap>:241: RuntimeWarning: to-Python converter for libtorrent::aux::noexcept_movable<boost::asio::ip::basic_endpoint<boost::asio::ip::tcp> > already registered; second conversion method ignored.\n",
            "<frozen importlib._bootstrap>:241: RuntimeWarning: to-Python converter for libtorrent::aux::noexcept_movable<boost::asio::ip::basic_endpoint<boost::asio::ip::udp> > already registered; second conversion method ignored.\n",
            "<frozen importlib._bootstrap>:241: RuntimeWarning: to-Python converter for libtorrent::aux::noexcept_movable<std::vector<libtorrent::stats_metric, std::allocator<libtorrent::stats_metric> > > already registered; second conversion method ignored.\n",
            "<frozen importlib._bootstrap>:241: RuntimeWarning: to-Python converter for libtorrent::aux::noexcept_movable<std::vector<libtorrent::open_file_state, std::allocator<libtorrent::open_file_state> > > already registered; second conversion method ignored.\n",
            "<frozen importlib._bootstrap>:241: RuntimeWarning: to-Python converter for libtorrent::aux::noexcept_movable<std::vector<libtorrent::digest32<160l>, std::allocator<libtorrent::digest32<160l> > > > already registered; second conversion method ignored.\n",
            "<frozen importlib._bootstrap>:241: RuntimeWarning: to-Python converter for libtorrent::aux::noexcept_movable<std::vector<std::__cxx11::basic_string<char, std::char_traits<char>, std::allocator<char> >, std::allocator<std::__cxx11::basic_string<char, std::char_traits<char>, std::allocator<char> > > > > already registered; second conversion method ignored.\n",
            "<frozen importlib._bootstrap>:241: RuntimeWarning: to-Python converter for libtorrent::aux::noexcept_movable<std::vector<int, std::allocator<int> > > already registered; second conversion method ignored.\n",
            "<frozen importlib._bootstrap>:241: RuntimeWarning: to-Python converter for libtorrent::aux::noexcept_movable<std::vector<libtorrent::aux::strong_typedef<unsigned char, libtorrent::download_priority_tag, void>, std::allocator<libtorrent::aux::strong_typedef<unsigned char, libtorrent::download_priority_tag, void> > > > already registered; second conversion method ignored.\n",
            "<frozen importlib._bootstrap>:241: RuntimeWarning: to-Python converter for libtorrent::aux::noexcept_movable<std::vector<boost::asio::ip::basic_endpoint<boost::asio::ip::tcp>, std::allocator<boost::asio::ip::basic_endpoint<boost::asio::ip::tcp> > > > already registered; second conversion method ignored.\n",
            "<frozen importlib._bootstrap>:241: RuntimeWarning: to-Python converter for libtorrent::aux::noexcept_movable<std::vector<boost::asio::ip::basic_endpoint<boost::asio::ip::udp>, std::allocator<boost::asio::ip::basic_endpoint<boost::asio::ip::udp> > > > already registered; second conversion method ignored.\n",
            "<frozen importlib._bootstrap>:241: RuntimeWarning: to-Python converter for libtorrent::aux::noexcept_movable<std::vector<std::pair<std::__cxx11::basic_string<char, std::char_traits<char>, std::allocator<char> >, int>, std::allocator<std::pair<std::__cxx11::basic_string<char, std::char_traits<char>, std::allocator<char> >, int> > > > already registered; second conversion method ignored.\n",
            "<frozen importlib._bootstrap>:241: RuntimeWarning: to-Python converter for libtorrent::aux::noexcept_movable<std::map<libtorrent::aux::strong_typedef<int, libtorrent::aux::piece_index_tag, void>, libtorrent::bitfield, std::less<libtorrent::aux::strong_typedef<int, libtorrent::aux::piece_index_tag, void> >, std::allocator<std::pair<libtorrent::aux::strong_typedef<int, libtorrent::aux::piece_index_tag, void> const, libtorrent::bitfield> > > > already registered; second conversion method ignored.\n",
            "<frozen importlib._bootstrap>:241: RuntimeWarning: to-Python converter for libtorrent::aux::noexcept_movable<std::map<libtorrent::aux::strong_typedef<int, libtorrent::aux::file_index_tag, void>, std::__cxx11::basic_string<char, std::char_traits<char>, std::allocator<char> >, std::less<libtorrent::aux::strong_typedef<int, libtorrent::aux::file_index_tag, void> >, std::allocator<std::pair<libtorrent::aux::strong_typedef<int, libtorrent::aux::file_index_tag, void> const, std::__cxx11::basic_string<char, std::char_traits<char>, std::allocator<char> > > > > > already registered; second conversion method ignored.\n",
            "<frozen importlib._bootstrap>:241: RuntimeWarning: to-Python converter for std::map<libtorrent::aux::strong_typedef<int, libtorrent::aux::file_index_tag, void>, std::__cxx11::basic_string<char, std::char_traits<char>, std::allocator<char> >, std::less<libtorrent::aux::strong_typedef<int, libtorrent::aux::file_index_tag, void> >, std::allocator<std::pair<libtorrent::aux::strong_typedef<int, libtorrent::aux::file_index_tag, void> const, std::__cxx11::basic_string<char, std::char_traits<char>, std::allocator<char> > > > > already registered; second conversion method ignored.\n",
            "<frozen importlib._bootstrap>:241: RuntimeWarning: to-Python converter for libtorrent::aux::noexcept_movable<std::vector<char, std::allocator<char> > > already registered; second conversion method ignored.\n",
            "<frozen importlib._bootstrap>:241: RuntimeWarning: to-Python converter for category_holder already registered; second conversion method ignored.\n",
            "<frozen importlib._bootstrap>:241: RuntimeWarning: to-Python converter for boost::system::error_code already registered; second conversion method ignored.\n",
            "<frozen importlib._bootstrap>:241: RuntimeWarning: to-Python converter for bytes already registered; second conversion method ignored.\n",
            "<frozen importlib._bootstrap>:241: RuntimeWarning: to-Python converter for libtorrent::fingerprint already registered; second conversion method ignored.\n",
            "<frozen importlib._bootstrap>:241: RuntimeWarning: to-Python converter for libtorrent::digest32<160l> already registered; second conversion method ignored.\n",
            "<frozen importlib._bootstrap>:241: RuntimeWarning: to-Python converter for std::shared_ptr<libtorrent::entry> already registered; second conversion method ignored.\n",
            "<frozen importlib._bootstrap>:241: RuntimeWarning: to-Python converter for libtorrent::entry already registered; second conversion method ignored.\n"
          ]
        }
      ]
    },
    {
      "cell_type": "markdown",
      "metadata": {
        "id": "Uf90U73y9YOj"
      },
      "source": [
        "### Mount Google Drive\n",
        "To stream files we need to mount Google Drive."
      ]
    },
    {
      "cell_type": "code",
      "metadata": {
        "id": "oWM9l2fvtuvO"
      },
      "source": [
        "from google.colab import drive\n",
        "\n",
        "drive.mount(\"/content/drive\")"
      ],
      "execution_count": null,
      "outputs": []
    },
    {
      "cell_type": "markdown",
      "metadata": {
        "id": "R_1XuuIf9YOn"
      },
      "source": [
        "### Add From Torrent File\n",
        "You can run this cell to add more files as many times as you want"
      ]
    },
    {
      "cell_type": "code",
      "metadata": {
        "id": "0et2A6N3udA0"
      },
      "source": [
        "from google.colab import files\n",
        "\n",
        "source = files.upload()\n",
        "params = {\n",
        "    \"save_path\": \"/content/drive/My Drive/Torrent\",\n",
        "    \"ti\": lt.torrent_info(list(source.keys())[0]),\n",
        "}\n",
        "downloads.append(ses.add_torrent(params))"
      ],
      "execution_count": null,
      "outputs": []
    },
    {
      "cell_type": "markdown",
      "metadata": {
        "id": "WD-6M6eZyzmj"
      },
      "source": [
        "### Add From Magnet Link\n",
        "You can run this cell to add more files as many times as you want"
      ]
    },
    {
      "cell_type": "code",
      "metadata": {
        "id": "Cwi1GMlxy3te",
        "colab": {
          "base_uri": "https://localhost:8080/"
        },
        "outputId": "5b6a9028-a1d0-408f-f811-0b4d4177c74e"
      },
      "source": [
        "params = {\"save_path\": \"/content/drive/My Drive/Torrent\"}\n",
        "\n",
        "while True:\n",
        "    magnet_link = input(\"Enter Magnet Link Or Type Exit: \")\n",
        "    if magnet_link.lower() == \"exit\":\n",
        "        break\n",
        "    downloads.append(\n",
        "        lt.add_magnet_uri(ses, magnet_link, params)\n",
        "    )\n"
      ],
      "execution_count": 3,
      "outputs": [
        {
          "name": "stdout",
          "output_type": "stream",
          "text": [
            "Enter Magnet Link Or Type Exit: magnet:?xt=urn:btih:488D8FB0C85C315A7FB83FEE6E2B4C9C20BFDA4C&dn=Tamasha+%282015%29+Hindi+-+720p+BluRay+-+1.2GB+-+Zaeem&tr=udp%3A%2F%2Ftracker.coppersurfer.tk%3A6969%2Fannounce&tr=udp%3A%2F%2Ftracker.openbittorrent.com%3A80%2Fannounce&tr=udp%3A%2F%2Fglotorrents.pw%3A6969%2Fannounce&tr=udp%3A%2F%2Ftracker.publicbt.com%3A80%2Fannounce&tr=udp%3A%2F%2Ftorrent.gresille.org%3A80%2Fannounce&tr=udp%3A%2F%2Fp4p.arenabg.ch%3A1337%2Fannounce&tr=udp%3A%2F%2F9.rarbg.to%3A2710%2Fannounce&tr=udp%3A%2F%2F9.rarbg.me%3A2710%2Fannounce&tr=udp%3A%2F%2Ftracker.leechers-paradise.org%3A6969%2Fannounce&tr=udp%3A%2F%2Feddie4.nl%3A6969%2Fannounce&tr=udp%3A%2F%2Ftracker.opentrackr.org%3A1337%2Fannounce&tr=http%3A%2F%2Ftracker.openbittorrent.com%3A80%2Fannounce&tr=udp%3A%2F%2Fopentracker.i2p.rocks%3A6969%2Fannounce&tr=udp%3A%2F%2Ftracker.internetwarriors.net%3A1337%2Fannounce&tr=udp%3A%2F%2Ftracker.leechers-paradise.org%3A6969%2Fannounce&tr=udp%3A%2F%2Fcoppersurfer.tk%3A6969%2Fannounce&tr=udp%3A%2F%2Ftracker.zer0day.to%3A1337%2Fannounce\n",
            "Enter Magnet Link Or Type Exit: exit\n"
          ]
        }
      ]
    },
    {
      "cell_type": "markdown",
      "metadata": {
        "id": "m-a1CUP39YOu"
      },
      "source": [
        "### Start Download\n",
        "Source: https://stackoverflow.com/a/5494823/7957705 and [#3 issue](https://github.com/FKLC/Torrent-To-Google-Drive-Downloader/issues/3) which refers to this [stackoverflow question](https://stackoverflow.com/a/6053350/7957705)"
      ]
    },
    {
      "cell_type": "code",
      "metadata": {
        "id": "DBNoYYoSuDBT",
        "colab": {
          "base_uri": "https://localhost:8080/",
          "height": 34,
          "referenced_widgets": [
            "e61cee968d9d40c7a21377afa4ca455b",
            "f3bec452d33e466f9089f79ee3202de4",
            "1831262783db4881be65626e87b573ae"
          ]
        },
        "outputId": "1b9de371-ebbe-4edb-ddc2-1ba8c938940d"
      },
      "source": [
        "import time\n",
        "from IPython.display import display\n",
        "import ipywidgets as widgets\n",
        "\n",
        "state_str = [\n",
        "    \"queued\",\n",
        "    \"checking\",\n",
        "    \"downloading metadata\",\n",
        "    \"downloading\",\n",
        "    \"finished\",\n",
        "    \"seeding\",\n",
        "    \"allocating\",\n",
        "    \"checking fastresume\",\n",
        "]\n",
        "\n",
        "layout = widgets.Layout(width=\"auto\")\n",
        "style = {\"description_width\": \"initial\"}\n",
        "download_bars = [\n",
        "    widgets.FloatSlider(\n",
        "        step=0.01, disabled=True, layout=layout, style=style\n",
        "    )\n",
        "    for _ in downloads\n",
        "]\n",
        "display(*download_bars)\n",
        "\n",
        "while downloads:\n",
        "    next_shift = 0\n",
        "    for index, download in enumerate(downloads[:]):\n",
        "        bar = download_bars[index + next_shift]\n",
        "        if not download.is_seed():\n",
        "            s = download.status()\n",
        "\n",
        "            bar.description = \" \".join(\n",
        "                [\n",
        "                    download.name(),\n",
        "                    str(s.download_rate / 1000),\n",
        "                    \"kB/s\",\n",
        "                    state_str[s.state],\n",
        "                ]\n",
        "            )\n",
        "            bar.value = s.progress * 100\n",
        "        else:\n",
        "            next_shift -= 1\n",
        "            ses.remove_torrent(download)\n",
        "            downloads.remove(download)\n",
        "            bar.close() # Seems to be not working in Colab (see https://github.com/googlecolab/colabtools/issues/726#issue-486731758)\n",
        "            download_bars.remove(bar)\n",
        "            print(download.name(), \"complete\")\n",
        "    time.sleep(1)\n"
      ],
      "execution_count": 4,
      "outputs": [
        {
          "output_type": "display_data",
          "data": {
            "text/plain": [
              "FloatSlider(value=0.0, disabled=True, layout=Layout(width='auto'), step=0.01, style=SliderStyle(description_wi…"
            ],
            "application/vnd.jupyter.widget-view+json": {
              "version_major": 2,
              "version_minor": 0,
              "model_id": "e61cee968d9d40c7a21377afa4ca455b"
            }
          },
          "metadata": {}
        },
        {
          "output_type": "stream",
          "name": "stdout",
          "text": [
            "Tamasha (2015) Hindi - 720p BluRay - 1.2GB - Zaeem complete\n"
          ]
        }
      ]
    }
  ]
}